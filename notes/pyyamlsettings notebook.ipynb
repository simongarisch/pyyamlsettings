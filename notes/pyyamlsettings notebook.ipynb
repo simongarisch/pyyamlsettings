{
 "cells": [
  {
   "cell_type": "markdown",
   "metadata": {},
   "source": [
    "# Working with the yamlsettings package"
   ]
  },
  {
   "cell_type": "code",
   "execution_count": 1,
   "metadata": {},
   "outputs": [],
   "source": [
    "import os\n",
    "\n",
    "os.chdir(\"..\")"
   ]
  },
  {
   "cell_type": "code",
   "execution_count": 2,
   "metadata": {},
   "outputs": [],
   "source": [
    "import pyyamlsettings"
   ]
  },
  {
   "cell_type": "code",
   "execution_count": null,
   "metadata": {},
   "outputs": [],
   "source": [
    "pyyamlsettings.__file__"
   ]
  },
  {
   "cell_type": "code",
   "execution_count": 5,
   "metadata": {},
   "outputs": [
    {
     "data": {
      "text/plain": [
       "(True, True)"
      ]
     },
     "execution_count": 5,
     "metadata": {},
     "output_type": "execute_result"
    }
   ],
   "source": [
    "import os\n",
    "yaml_file_path1 = os.path.join(\"tests\", \"test_yaml_file1.yaml\")\n",
    "yaml_file_path2 = os.path.join(\"tests\", \"test_yaml_file2.yaml\")\n",
    "os.path.exists(yaml_file_path1), os.path.exists(yaml_file_path2)"
   ]
  },
  {
   "cell_type": "markdown",
   "metadata": {},
   "source": [
    "We have imported the yamlsettings package and have a couple of test yaml files that we can use. Here is the contents of the first yaml file."
   ]
  },
  {
   "cell_type": "code",
   "execution_count": 6,
   "metadata": {},
   "outputs": [
    {
     "name": "stdout",
     "output_type": "stream",
     "text": [
      "\n",
      "att1: 42\n",
      "att2: \"This is a string\"\n",
      "\n",
      "level1:\n",
      "    a: 1\n",
      "    b: 2\n",
      "    level2:\n",
      "        a: 3\n",
      "        b: 4\n",
      "        level3:\n",
      "            a: 5\n",
      "            b: 6\n",
      "\n"
     ]
    }
   ],
   "source": [
    "with open(yaml_file_path1, \"r\") as yaml_file:\n",
    "    print(yaml_file.read())"
   ]
  },
  {
   "cell_type": "markdown",
   "metadata": {},
   "source": [
    "We can create an instance of the YamlSettings class to read this yaml file:"
   ]
  },
  {
   "cell_type": "code",
   "execution_count": 7,
   "metadata": {},
   "outputs": [],
   "source": [
    "settingsObj = pyyamlsettings.YamlSettings(yaml_file_path1)"
   ]
  },
  {
   "cell_type": "code",
   "execution_count": 8,
   "metadata": {},
   "outputs": [
    {
     "data": {
      "text/plain": [
       "42"
      ]
     },
     "execution_count": 8,
     "metadata": {},
     "output_type": "execute_result"
    }
   ],
   "source": [
    "settingsObj.get_data(\"att1\")"
   ]
  },
  {
   "cell_type": "code",
   "execution_count": 9,
   "metadata": {},
   "outputs": [
    {
     "data": {
      "text/plain": [
       "4"
      ]
     },
     "execution_count": 9,
     "metadata": {},
     "output_type": "execute_result"
    }
   ],
   "source": [
    "settingsObj.get_data(\"level1\", \"level2\", \"b\")"
   ]
  },
  {
   "cell_type": "markdown",
   "metadata": {},
   "source": [
    "the 'get_data' method takes a variable number of arguments and allows you to drill down into different levels of the yaml file. An error will be thrown if the attribute you are querying does not exist."
   ]
  },
  {
   "cell_type": "code",
   "execution_count": 10,
   "metadata": {},
   "outputs": [
    {
     "name": "stdout",
     "output_type": "stream",
     "text": [
      "Requested yaml attribute does not exist!\n"
     ]
    }
   ],
   "source": [
    "try:\n",
    "    settingsObj.get_data(\"not_an_attribute\")\n",
    "except Exception as e:\n",
    "    print(e)"
   ]
  },
  {
   "cell_type": "markdown",
   "metadata": {},
   "source": [
    "## The YamlSettings class is implemented using the Flyweight pattern\n",
    "If you load the same yaml file twice you will get two references to the same object. A new YamlSettings object is only created for each unique yaml file path."
   ]
  },
  {
   "cell_type": "code",
   "execution_count": 11,
   "metadata": {},
   "outputs": [
    {
     "data": {
      "text/plain": [
       "True"
      ]
     },
     "execution_count": 11,
     "metadata": {},
     "output_type": "execute_result"
    }
   ],
   "source": [
    "file1A = pyyamlsettings.YamlSettings(yaml_file_path1)\n",
    "file1B = pyyamlsettings.YamlSettings(yaml_file_path1)\n",
    "id(file1A) == id(file1B) # they are the same object"
   ]
  },
  {
   "cell_type": "code",
   "execution_count": 12,
   "metadata": {},
   "outputs": [
    {
     "data": {
      "text/plain": [
       "True"
      ]
     },
     "execution_count": 12,
     "metadata": {},
     "output_type": "execute_result"
    }
   ],
   "source": [
    "file2A = pyyamlsettings.YamlSettings(yaml_file_path2)\n",
    "file2B = pyyamlsettings.YamlSettings(yaml_file_path2)\n",
    "id(file2A) == id(file2B) # they are the same object"
   ]
  },
  {
   "cell_type": "markdown",
   "metadata": {},
   "source": [
    "***"
   ]
  }
 ],
 "metadata": {
  "@webio": {
   "lastCommId": null,
   "lastKernelId": null
  },
  "kernelspec": {
   "display_name": "py36",
   "language": "python",
   "name": "py36"
  },
  "language_info": {
   "codemirror_mode": {
    "name": "ipython",
    "version": 3
   },
   "file_extension": ".py",
   "mimetype": "text/x-python",
   "name": "python",
   "nbconvert_exporter": "python",
   "pygments_lexer": "ipython3",
   "version": "3.6.6"
  }
 },
 "nbformat": 4,
 "nbformat_minor": 2
}
